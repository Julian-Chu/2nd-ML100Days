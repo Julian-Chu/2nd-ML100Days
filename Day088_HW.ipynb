{
 "cells": [
  {
   "cell_type": "markdown",
   "metadata": {},
   "source": [
    "## Work\n",
    "1. 請嘗試寫一個 callback 用來記錄各類別在訓練過程中，對驗證集的 True Positive 與 True Negative"
   ]
  },
  {
   "cell_type": "code",
   "execution_count": 1,
   "metadata": {},
   "outputs": [
    {
     "name": "stderr",
     "output_type": "stream",
     "text": [
      "Using TensorFlow backend.\n"
     ]
    }
   ],
   "source": [
    "import os\n",
    "import keras\n",
    "\n",
    "# Disable GPU\n",
    "os.environ[\"CUDA_VISIBLE_DEVICES\"] = \"\""
   ]
  },
  {
   "cell_type": "code",
   "execution_count": 2,
   "metadata": {},
   "outputs": [],
   "source": [
    "train, test = keras.datasets.cifar10.load_data()"
   ]
  },
  {
   "cell_type": "code",
   "execution_count": 3,
   "metadata": {},
   "outputs": [],
   "source": [
    "## 資料前處理\n",
    "def preproc_x(x, flatten=True):\n",
    "    x = x / 255.\n",
    "    if flatten:\n",
    "        x = x.reshape((len(x), -1))\n",
    "    return x\n",
    "\n",
    "def preproc_y(y, num_classes=10):\n",
    "    if y.shape[-1] == 1:\n",
    "        y = keras.utils.to_categorical(y, num_classes)\n",
    "    return y    "
   ]
  },
  {
   "cell_type": "code",
   "execution_count": 4,
   "metadata": {},
   "outputs": [],
   "source": [
    "x_train, y_train = train\n",
    "x_test, y_test = test\n",
    "\n",
    "# Preproc the inputs\n",
    "x_train = preproc_x(x_train)\n",
    "x_test = preproc_x(x_test)\n",
    "\n",
    "# Preprc the outputs\n",
    "y_train = preproc_y(y_train)\n",
    "y_test = preproc_y(y_test)"
   ]
  },
  {
   "cell_type": "code",
   "execution_count": 5,
   "metadata": {},
   "outputs": [],
   "source": [
    "from keras.layers import BatchNormalization\n",
    "def build_mlp(input_shape, output_units=10, num_neurons=[256, 256, 256]):\n",
    "    \"\"\"Code Here\n",
    "    建立你的神經網路\n",
    "    \"\"\"\n",
    "    input_layer = keras.layers.Input(input_shape)\n",
    "    \n",
    "    for i, n_units in enumerate(num_neurons):\n",
    "        if i == 0:\n",
    "            x = keras.layers.Dense(units=n_units, \n",
    "                                   activation=\"relu\", \n",
    "                                   name=\"hidden_layer\"+str(i+1))(input_layer)\n",
    "            x = BatchNormalization()(x)\n",
    "        else:\n",
    "            x = keras.layers.Dense(units=n_units, \n",
    "                                   activation=\"relu\", \n",
    "                                   name=\"hidden_layer\"+str(i+1))(x)\n",
    "            x = BatchNormalization()(x)\n",
    "    \n",
    "    out = keras.layers.Dense(units=output_units, activation=\"softmax\", name=\"output\")(x)\n",
    "    \n",
    "    model = keras.models.Model(inputs=[input_layer], outputs=[out])\n",
    "    return model"
   ]
  },
  {
   "cell_type": "code",
   "execution_count": 6,
   "metadata": {},
   "outputs": [],
   "source": [
    "## 超參數設定\n",
    "LEARNING_RATE = 1e-3\n",
    "EPOCHS = 25\n",
    "BATCH_SIZE = 1024\n",
    "MOMENTUM = 0.95"
   ]
  },
  {
   "cell_type": "code",
   "execution_count": 9,
   "metadata": {},
   "outputs": [],
   "source": [
    "# 載入 Callbacks\n",
    "from keras.callbacks import Callback\n",
    "\n",
    "# Record_fp_tp\n",
    "class Record_tp_tn(Callback):\n",
    "    \"\"\"Code Here\n",
    "    撰寫一個紀錄 ture positive 與 true negative 數量的 callbacks    \n",
    "    \"\"\"\n",
    "    def on_train_begin(self, epoch, logs ={}):\n",
    "        record_items = [\"tp\", \"tn\"]\n",
    "        for i in record_items:\n",
    "            if i not in self.params['metrics']:\n",
    "                self.params['metrics'].append(i)\n",
    "         \n",
    "    def on_epoch_end(self, epoch, logs = {}, thres=0.5):\n",
    "        logs = logs or {}\n",
    "        y_true = self.validation_data[1].argmax(axis = 1)\n",
    "        y_pred = self.model.predict(self.validation_data[0])\n",
    "        y_pred = (y_pred[:, 1] >= thres) * 1\n",
    "        \n",
    "        logs[\"tp\"], logs[\"tn\"] = self.calc_tp_tn(y_true = y_true, y_pred = y_pred)\n",
    "    \n",
    "    def calc_tp_tn(self, y_true, y_pred):\n",
    "        TP = 0        \n",
    "        TN = 0\n",
    "        for i in range(len(y_pred)):\n",
    "            if y_true[i]==y_pred[i]==1:\n",
    "                TP += 1\n",
    "            if y_true[i]==y_pred[i]==0:\n",
    "                TN += 1         \n",
    "        return(TP, TN)\n",
    "                \n",
    "        \n",
    "rec_tptn = Record_tp_tn()"
   ]
  },
  {
   "cell_type": "code",
   "execution_count": 10,
   "metadata": {
    "scrolled": true
   },
   "outputs": [
    {
     "name": "stdout",
     "output_type": "stream",
     "text": [
      "_________________________________________________________________\n",
      "Layer (type)                 Output Shape              Param #   \n",
      "=================================================================\n",
      "input_2 (InputLayer)         (None, 3072)              0         \n",
      "_________________________________________________________________\n",
      "hidden_layer1 (Dense)        (None, 256)               786688    \n",
      "_________________________________________________________________\n",
      "batch_normalization_4 (Batch (None, 256)               1024      \n",
      "_________________________________________________________________\n",
      "hidden_layer2 (Dense)        (None, 256)               65792     \n",
      "_________________________________________________________________\n",
      "batch_normalization_5 (Batch (None, 256)               1024      \n",
      "_________________________________________________________________\n",
      "hidden_layer3 (Dense)        (None, 256)               65792     \n",
      "_________________________________________________________________\n",
      "batch_normalization_6 (Batch (None, 256)               1024      \n",
      "_________________________________________________________________\n",
      "output (Dense)               (None, 10)                2570      \n",
      "=================================================================\n",
      "Total params: 923,914\n",
      "Trainable params: 922,378\n",
      "Non-trainable params: 1,536\n",
      "_________________________________________________________________\n",
      "Train on 50000 samples, validate on 10000 samples\n",
      "Epoch 1/25\n",
      "50000/50000 [==============================] - 4s 79us/step - loss: 2.2636 - acc: 0.2604 - val_loss: 2.1743 - val_acc: 0.3139\n",
      "Epoch 2/25\n",
      "50000/50000 [==============================] - 3s 54us/step - loss: 1.7772 - acc: 0.3819 - val_loss: 1.8590 - val_acc: 0.3792\n",
      "Epoch 3/25\n",
      "50000/50000 [==============================] - 3s 56us/step - loss: 1.6449 - acc: 0.4261 - val_loss: 1.7366 - val_acc: 0.4047\n",
      "Epoch 4/25\n",
      "50000/50000 [==============================] - 3s 54us/step - loss: 1.5697 - acc: 0.4509 - val_loss: 1.6578 - val_acc: 0.4199\n",
      "Epoch 5/25\n",
      "50000/50000 [==============================] - 3s 61us/step - loss: 1.5146 - acc: 0.4683 - val_loss: 1.6202 - val_acc: 0.4328\n",
      "Epoch 6/25\n",
      "50000/50000 [==============================] - 3s 62us/step - loss: 1.4684 - acc: 0.4876 - val_loss: 1.5852 - val_acc: 0.4443\n",
      "Epoch 7/25\n",
      "50000/50000 [==============================] - 3s 53us/step - loss: 1.4297 - acc: 0.4990 - val_loss: 1.5687 - val_acc: 0.4458\n",
      "Epoch 8/25\n",
      "50000/50000 [==============================] - 3s 56us/step - loss: 1.3983 - acc: 0.5107 - val_loss: 1.5404 - val_acc: 0.4596\n",
      "Epoch 9/25\n",
      "50000/50000 [==============================] - 3s 52us/step - loss: 1.3689 - acc: 0.5231 - val_loss: 1.5231 - val_acc: 0.4606\n",
      "Epoch 10/25\n",
      "50000/50000 [==============================] - 3s 59us/step - loss: 1.3406 - acc: 0.5329 - val_loss: 1.5154 - val_acc: 0.4657\n",
      "Epoch 11/25\n",
      "50000/50000 [==============================] - 3s 66us/step - loss: 1.3146 - acc: 0.5422 - val_loss: 1.5044 - val_acc: 0.4704\n",
      "Epoch 12/25\n",
      "50000/50000 [==============================] - 3s 61us/step - loss: 1.2900 - acc: 0.5517 - val_loss: 1.4933 - val_acc: 0.4677\n",
      "Epoch 13/25\n",
      "50000/50000 [==============================] - 3s 57us/step - loss: 1.2683 - acc: 0.5592 - val_loss: 1.4988 - val_acc: 0.4728\n",
      "Epoch 14/25\n",
      "50000/50000 [==============================] - 2s 50us/step - loss: 1.2474 - acc: 0.5659 - val_loss: 1.4926 - val_acc: 0.4730\n",
      "Epoch 15/25\n",
      "50000/50000 [==============================] - 3s 51us/step - loss: 1.2242 - acc: 0.5765 - val_loss: 1.4703 - val_acc: 0.4783\n",
      "Epoch 16/25\n",
      "50000/50000 [==============================] - 2s 50us/step - loss: 1.2060 - acc: 0.5830 - val_loss: 1.4662 - val_acc: 0.4828\n",
      "Epoch 17/25\n",
      "50000/50000 [==============================] - 3s 59us/step - loss: 1.1856 - acc: 0.5896 - val_loss: 1.4741 - val_acc: 0.4833\n",
      "Epoch 18/25\n",
      "50000/50000 [==============================] - 3s 57us/step - loss: 1.1672 - acc: 0.5978 - val_loss: 1.4749 - val_acc: 0.4810\n",
      "Epoch 19/25\n",
      "50000/50000 [==============================] - 3s 54us/step - loss: 1.1482 - acc: 0.6039 - val_loss: 1.4618 - val_acc: 0.4897\n",
      "Epoch 20/25\n",
      "50000/50000 [==============================] - 3s 51us/step - loss: 1.1291 - acc: 0.6104 - val_loss: 1.4596 - val_acc: 0.4875\n",
      "Epoch 21/25\n",
      "50000/50000 [==============================] - 2s 49us/step - loss: 1.1121 - acc: 0.6188 - val_loss: 1.4474 - val_acc: 0.4911\n",
      "Epoch 22/25\n",
      "50000/50000 [==============================] - 2s 49us/step - loss: 1.0933 - acc: 0.6259 - val_loss: 1.4641 - val_acc: 0.4924\n",
      "Epoch 23/25\n",
      "50000/50000 [==============================] - 2s 50us/step - loss: 1.0767 - acc: 0.6348 - val_loss: 1.4556 - val_acc: 0.4890\n",
      "Epoch 24/25\n",
      "50000/50000 [==============================] - 2s 49us/step - loss: 1.0612 - acc: 0.6391 - val_loss: 1.4612 - val_acc: 0.4904\n",
      "Epoch 25/25\n",
      "50000/50000 [==============================] - 2s 49us/step - loss: 1.0432 - acc: 0.6449 - val_loss: 1.4554 - val_acc: 0.4936\n"
     ]
    }
   ],
   "source": [
    "model = build_mlp(input_shape=x_train.shape[1:])\n",
    "model.summary()\n",
    "optimizer = keras.optimizers.SGD(lr=LEARNING_RATE, nesterov=True, momentum=MOMENTUM)\n",
    "model.compile(loss=\"categorical_crossentropy\", metrics=[\"accuracy\"], optimizer=optimizer)\n",
    "\n",
    "\"\"\"Code Here\n",
    "將 callbacks 放入模型訓練流程中\n",
    "\"\"\"\n",
    "model.fit(x_train, y_train, \n",
    "          epochs=EPOCHS, \n",
    "          batch_size=BATCH_SIZE, \n",
    "          validation_data=(x_test, y_test), \n",
    "          shuffle=True,\n",
    "          callbacks=[rec_tptn])\n",
    "\n",
    "# Collect results\n",
    "train_loss = model.history.history[\"loss\"]\n",
    "valid_loss = model.history.history[\"val_loss\"]\n",
    "train_acc = model.history.history[\"acc\"]\n",
    "valid_acc = model.history.history[\"val_acc\"]\n",
    "\n",
    "\"\"\"Code Here\n",
    "將 tp/tn 從訓練完的模型中取出\n",
    "\"\"\"\n",
    "valid_tp = model.history.history[\"tp\"]\n",
    "valid_tn = model.history.history[\"tn\"]"
   ]
  },
  {
   "cell_type": "code",
   "execution_count": 11,
   "metadata": {},
   "outputs": [
    {
     "data": {
      "image/png": "[encoded data removed]",
      "text/plain": [
       "<Figure size 432x288 with 1 Axes>"
      ]
     },
     "metadata": {
      "needs_background": "light"
     },
     "output_type": "display_data"
    },
    {
     "data": {
      "image/png": "[encoded data removed]",
      "text/plain": [
       "<Figure size 432x288 with 1 Axes>"
      ]
     },
     "metadata": {
      "needs_background": "light"
     },
     "output_type": "display_data"
    },
    {
     "data": {
      "image/png": "[encoded data removed]",
      "text/plain": [
       "<Figure size 432x288 with 1 Axes>"
      ]
     },
     "metadata": {
      "needs_background": "light"
     },
     "output_type": "display_data"
    }
   ],
   "source": [
    "import matplotlib.pyplot as plt\n",
    "%matplotlib inline\n",
    "\n",
    "plt.plot(range(len(train_loss)), train_loss, label=\"train loss\")\n",
    "plt.plot(range(len(valid_loss)), valid_loss, label=\"valid loss\")\n",
    "plt.legend()\n",
    "plt.title(\"Loss\")\n",
    "plt.show()\n",
    "\n",
    "plt.plot(range(len(train_acc)), train_acc, label=\"train accuracy\")\n",
    "plt.plot(range(len(valid_acc)), valid_acc, label=\"valid accuracy\")\n",
    "plt.legend()\n",
    "plt.title(\"Accuracy\")\n",
    "plt.show()\n",
    "\n",
    "plt.plot(range(len(valid_tp)), valid_tp, label=\"valid tp\", color=\"navy\")\n",
    "plt.plot(range(len(valid_tn)), valid_tn, label=\"valid tn\", color=\"red\")\n",
    "plt.legend()\n",
    "plt.title(\"True positives and True Negatives\")\n",
    "plt.show()\n"
   ]
  }
 ],
 "metadata": {
  "kernelspec": {
   "display_name": "Python 3",
   "language": "python",
   "name": "python3"
  },
  "language_info": {
   "codemirror_mode": {
    "name": "ipython",
    "version": 3
   },
   "file_extension": ".py",
   "mimetype": "text/x-python",
   "name": "python",
   "nbconvert_exporter": "python",
   "pygments_lexer": "ipython3",
   "version": "3.7.3"
  }
 },
 "nbformat": 4,
 "nbformat_minor": 2
}

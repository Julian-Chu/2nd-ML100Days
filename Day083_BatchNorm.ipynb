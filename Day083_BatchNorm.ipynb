{
 "cells": [
  {
   "cell_type": "markdown",
   "metadata": {},
   "source": [
    "## 範例重點\n",
    "* 學習如何在 keras 中加入 BatchNorm\n",
    "* 知道有無 BN 對訓練的影響\n",
    "* 比較 BN 在不同 batch size 下的效果"
   ]
  },
  {
   "cell_type": "code",
   "execution_count": 1,
   "metadata": {},
   "outputs": [
    {
     "name": "stderr",
     "output_type": "stream",
     "text": [
      "Using TensorFlow backend.\n"
     ]
    }
   ],
   "source": [
    "import os\n",
    "import keras\n",
    "\n",
    "# 本範例不需使用 GPU, 將 GPU 設定為 \"無\"\n",
    "os.environ[\"CUDA_VISIBLE_DEVICES\"] = \"\""
   ]
  },
  {
   "cell_type": "code",
   "execution_count": 2,
   "metadata": {},
   "outputs": [],
   "source": [
    "train, test = keras.datasets.cifar10.load_data()"
   ]
  },
  {
   "cell_type": "code",
   "execution_count": 3,
   "metadata": {},
   "outputs": [],
   "source": [
    "## 資料前處理\n",
    "def preproc_x(x, flatten=True):\n",
    "    x = x / 255.\n",
    "    if flatten:\n",
    "        x = x.reshape((len(x), -1))\n",
    "    return x\n",
    "\n",
    "def preproc_y(y, num_classes=10):\n",
    "    if y.shape[-1] == 1:\n",
    "        y = keras.utils.to_categorical(y, num_classes)\n",
    "    return y    "
   ]
  },
  {
   "cell_type": "code",
   "execution_count": 4,
   "metadata": {},
   "outputs": [],
   "source": [
    "x_train, y_train = train\n",
    "x_test, y_test = test\n",
    "\n",
    "# 資料前處理 - X 標準化\n",
    "x_train = preproc_x(x_train)\n",
    "x_test = preproc_x(x_test)\n",
    "\n",
    "# 資料前處理 -Y 轉成 onehot\n",
    "y_train = preproc_y(y_train)\n",
    "y_test = preproc_y(y_test)"
   ]
  },
  {
   "cell_type": "code",
   "execution_count": 5,
   "metadata": {},
   "outputs": [],
   "source": [
    "from keras.layers import BatchNormalization\n",
    "\n",
    "\"\"\"\n",
    "建立神經網路，並加入 BN layer\n",
    "\"\"\"\n",
    "def build_mlp(input_shape, output_units=10, num_neurons=[512, 256, 128]):\n",
    "    input_layer = keras.layers.Input(input_shape)\n",
    "    \n",
    "    for i, n_units in enumerate(num_neurons):\n",
    "        if i == 0:\n",
    "            x = keras.layers.Dense(units=n_units, \n",
    "                                   activation=\"relu\", \n",
    "                                   name=\"hidden_layer\"+str(i+1))(input_layer)\n",
    "            x = BatchNormalization()(x)\n",
    "        else:\n",
    "            x = keras.layers.Dense(units=n_units, \n",
    "                                   activation=\"relu\", \n",
    "                                   name=\"hidden_layer\"+str(i+1))(x)\n",
    "            x = BatchNormalization()(x)\n",
    "    \n",
    "    out = keras.layers.Dense(units=output_units, activation=\"softmax\", name=\"output\")(x)\n",
    "    \n",
    "    model = keras.models.Model(inputs=[input_layer], outputs=[out])\n",
    "    return model"
   ]
  },
  {
   "cell_type": "code",
   "execution_count": 6,
   "metadata": {},
   "outputs": [],
   "source": [
    "## 超參數設定\n",
    "LEARNING_RATE = 1e-3\n",
    "EPOCHS = 50\n",
    "BATCH_SIZE = 1024\n",
    "MOMENTUM = 0.95"
   ]
  },
  {
   "cell_type": "code",
   "execution_count": 7,
   "metadata": {
    "scrolled": true
   },
   "outputs": [
    {
     "name": "stderr",
     "output_type": "stream",
     "text": [
      "WARNING: Logging before flag parsing goes to stderr.\n",
      "W0813 12:18:30.697874 11784 deprecation_wrapper.py:119] From C:\\Users\\Julian\\Anaconda3\\lib\\site-packages\\keras\\backend\\tensorflow_backend.py:74: The name tf.get_default_graph is deprecated. Please use tf.compat.v1.get_default_graph instead.\n",
      "\n",
      "W0813 12:18:30.718416 11784 deprecation_wrapper.py:119] From C:\\Users\\Julian\\Anaconda3\\lib\\site-packages\\keras\\backend\\tensorflow_backend.py:517: The name tf.placeholder is deprecated. Please use tf.compat.v1.placeholder instead.\n",
      "\n",
      "W0813 12:18:30.723414 11784 deprecation_wrapper.py:119] From C:\\Users\\Julian\\Anaconda3\\lib\\site-packages\\keras\\backend\\tensorflow_backend.py:4138: The name tf.random_uniform is deprecated. Please use tf.random.uniform instead.\n",
      "\n",
      "W0813 12:18:30.806084 11784 deprecation_wrapper.py:119] From C:\\Users\\Julian\\Anaconda3\\lib\\site-packages\\keras\\backend\\tensorflow_backend.py:133: The name tf.placeholder_with_default is deprecated. Please use tf.compat.v1.placeholder_with_default instead.\n",
      "\n",
      "W0813 12:18:31.059121 11784 deprecation_wrapper.py:119] From C:\\Users\\Julian\\Anaconda3\\lib\\site-packages\\keras\\optimizers.py:790: The name tf.train.Optimizer is deprecated. Please use tf.compat.v1.train.Optimizer instead.\n",
      "\n",
      "W0813 12:18:31.066086 11784 deprecation_wrapper.py:119] From C:\\Users\\Julian\\Anaconda3\\lib\\site-packages\\keras\\backend\\tensorflow_backend.py:3295: The name tf.log is deprecated. Please use tf.math.log instead.\n",
      "\n",
      "W0813 12:18:31.159113 11784 deprecation.py:323] From C:\\Users\\Julian\\Anaconda3\\lib\\site-packages\\tensorflow\\python\\ops\\math_grad.py:1250: add_dispatch_support.<locals>.wrapper (from tensorflow.python.ops.array_ops) is deprecated and will be removed in a future version.\n",
      "Instructions for updating:\n",
      "Use tf.where in 2.0, which has the same broadcast rule as np.where\n"
     ]
    },
    {
     "name": "stdout",
     "output_type": "stream",
     "text": [
      "_________________________________________________________________\n",
      "Layer (type)                 Output Shape              Param #   \n",
      "=================================================================\n",
      "input_1 (InputLayer)         (None, 3072)              0         \n",
      "_________________________________________________________________\n",
      "hidden_layer1 (Dense)        (None, 512)               1573376   \n",
      "_________________________________________________________________\n",
      "batch_normalization_1 (Batch (None, 512)               2048      \n",
      "_________________________________________________________________\n",
      "hidden_layer2 (Dense)        (None, 256)               131328    \n",
      "_________________________________________________________________\n",
      "batch_normalization_2 (Batch (None, 256)               1024      \n",
      "_________________________________________________________________\n",
      "hidden_layer3 (Dense)        (None, 128)               32896     \n",
      "_________________________________________________________________\n",
      "batch_normalization_3 (Batch (None, 128)               512       \n",
      "_________________________________________________________________\n",
      "output (Dense)               (None, 10)                1290      \n",
      "=================================================================\n",
      "Total params: 1,742,474\n",
      "Trainable params: 1,740,682\n",
      "Non-trainable params: 1,792\n",
      "_________________________________________________________________\n",
      "Train on 50000 samples, validate on 10000 samples\n",
      "Epoch 1/50\n",
      "50000/50000 [==============================] - 6s 112us/step - loss: 2.2148 - acc: 0.2736 - val_loss: 2.0986 - val_acc: 0.3179\n",
      "Epoch 2/50\n",
      "50000/50000 [==============================] - 2s 49us/step - loss: 1.7501 - acc: 0.3945 - val_loss: 1.8111 - val_acc: 0.3789\n",
      "Epoch 3/50\n",
      "50000/50000 [==============================] - 2s 49us/step - loss: 1.6177 - acc: 0.4362 - val_loss: 1.6807 - val_acc: 0.4083\n",
      "Epoch 4/50\n",
      "50000/50000 [==============================] - 2s 48us/step - loss: 1.5439 - acc: 0.4630 - val_loss: 1.6301 - val_acc: 0.4329\n",
      "Epoch 5/50\n",
      "50000/50000 [==============================] - 2s 49us/step - loss: 1.4885 - acc: 0.4808 - val_loss: 1.6040 - val_acc: 0.4442\n",
      "Epoch 6/50\n",
      "50000/50000 [==============================] - 3s 51us/step - loss: 1.4431 - acc: 0.4972 - val_loss: 1.5740 - val_acc: 0.4542\n",
      "Epoch 7/50\n",
      "50000/50000 [==============================] - 2s 50us/step - loss: 1.4033 - acc: 0.5111 - val_loss: 1.5605 - val_acc: 0.4524\n",
      "Epoch 8/50\n",
      "50000/50000 [==============================] - 3s 55us/step - loss: 1.3691 - acc: 0.5230 - val_loss: 1.5439 - val_acc: 0.4575\n",
      "Epoch 9/50\n",
      "50000/50000 [==============================] - 3s 57us/step - loss: 1.3360 - acc: 0.5350 - val_loss: 1.5125 - val_acc: 0.4660\n",
      "Epoch 10/50\n",
      "50000/50000 [==============================] - 3s 50us/step - loss: 1.3056 - acc: 0.5447 - val_loss: 1.5130 - val_acc: 0.4651\n",
      "Epoch 11/50\n",
      "50000/50000 [==============================] - 2s 49us/step - loss: 1.2789 - acc: 0.5542 - val_loss: 1.4959 - val_acc: 0.4727\n",
      "Epoch 12/50\n",
      "50000/50000 [==============================] - 3s 50us/step - loss: 1.2531 - acc: 0.5674 - val_loss: 1.5018 - val_acc: 0.4721\n",
      "Epoch 13/50\n",
      "50000/50000 [==============================] - 2s 49us/step - loss: 1.2252 - acc: 0.5754 - val_loss: 1.4760 - val_acc: 0.4820\n",
      "Epoch 14/50\n",
      "50000/50000 [==============================] - 3s 51us/step - loss: 1.2017 - acc: 0.5858 - val_loss: 1.4718 - val_acc: 0.4879\n",
      "Epoch 15/50\n",
      "50000/50000 [==============================] - 3s 51us/step - loss: 1.1769 - acc: 0.5959 - val_loss: 1.4745 - val_acc: 0.4840\n",
      "Epoch 16/50\n",
      "50000/50000 [==============================] - 3s 52us/step - loss: 1.1527 - acc: 0.6035 - val_loss: 1.4985 - val_acc: 0.4765\n",
      "Epoch 17/50\n",
      "50000/50000 [==============================] - 2s 50us/step - loss: 1.1333 - acc: 0.6106 - val_loss: 1.4596 - val_acc: 0.4930\n",
      "Epoch 18/50\n",
      "50000/50000 [==============================] - 3s 52us/step - loss: 1.1094 - acc: 0.6210 - val_loss: 1.4601 - val_acc: 0.4894\n",
      "Epoch 19/50\n",
      "50000/50000 [==============================] - 3s 51us/step - loss: 1.0854 - acc: 0.6292 - val_loss: 1.4647 - val_acc: 0.4922\n",
      "Epoch 20/50\n",
      "50000/50000 [==============================] - 3s 59us/step - loss: 1.0651 - acc: 0.6385 - val_loss: 1.4578 - val_acc: 0.4970\n",
      "Epoch 21/50\n",
      "50000/50000 [==============================] - 3s 53us/step - loss: 1.0422 - acc: 0.6474 - val_loss: 1.4612 - val_acc: 0.4939\n",
      "Epoch 22/50\n",
      "50000/50000 [==============================] - 3s 61us/step - loss: 1.0190 - acc: 0.6562 - val_loss: 1.4567 - val_acc: 0.4952\n",
      "Epoch 23/50\n",
      "50000/50000 [==============================] - 3s 56us/step - loss: 1.0001 - acc: 0.6624 - val_loss: 1.4604 - val_acc: 0.4956\n",
      "Epoch 24/50\n",
      "50000/50000 [==============================] - 2s 50us/step - loss: 0.9798 - acc: 0.6715 - val_loss: 1.4713 - val_acc: 0.4927\n",
      "Epoch 25/50\n",
      "50000/50000 [==============================] - 3s 50us/step - loss: 0.9584 - acc: 0.6799 - val_loss: 1.4737 - val_acc: 0.4882\n",
      "Epoch 26/50\n",
      "50000/50000 [==============================] - 3s 50us/step - loss: 0.9380 - acc: 0.6878 - val_loss: 1.4718 - val_acc: 0.4894\n",
      "Epoch 27/50\n",
      "50000/50000 [==============================] - 3s 51us/step - loss: 0.9192 - acc: 0.6942 - val_loss: 1.4670 - val_acc: 0.4934 - loss: 0.9198 - acc: 0\n",
      "Epoch 28/50\n",
      "50000/50000 [==============================] - 2s 50us/step - loss: 0.8977 - acc: 0.7037 - val_loss: 1.4842 - val_acc: 0.4943\n",
      "Epoch 29/50\n",
      "50000/50000 [==============================] - 3s 50us/step - loss: 0.8774 - acc: 0.7108 - val_loss: 1.4978 - val_acc: 0.4900\n",
      "Epoch 30/50\n",
      "50000/50000 [==============================] - 3s 51us/step - loss: 0.8586 - acc: 0.7172 - val_loss: 1.4824 - val_acc: 0.4976\n",
      "Epoch 31/50\n",
      "50000/50000 [==============================] - 2s 50us/step - loss: 0.8373 - acc: 0.7271 - val_loss: 1.5181 - val_acc: 0.4892\n",
      "Epoch 32/50\n",
      "50000/50000 [==============================] - 3s 51us/step - loss: 0.8203 - acc: 0.7318 - val_loss: 1.5007 - val_acc: 0.4944\n",
      "Epoch 33/50\n",
      "50000/50000 [==============================] - 3s 50us/step - loss: 0.8005 - acc: 0.7407 - val_loss: 1.5077 - val_acc: 0.4970\n",
      "Epoch 34/50\n",
      "50000/50000 [==============================] - 3s 51us/step - loss: 0.7792 - acc: 0.7497 - val_loss: 1.5326 - val_acc: 0.4927\n",
      "Epoch 35/50\n",
      "50000/50000 [==============================] - 2s 49us/step - loss: 0.7606 - acc: 0.7552 - val_loss: 1.5217 - val_acc: 0.4925\n",
      "Epoch 36/50\n",
      "50000/50000 [==============================] - 2s 50us/step - loss: 0.7417 - acc: 0.7640 - val_loss: 1.5345 - val_acc: 0.4959\n",
      "Epoch 37/50\n",
      "50000/50000 [==============================] - 3s 51us/step - loss: 0.7239 - acc: 0.7705 - val_loss: 1.5429 - val_acc: 0.4897\n",
      "Epoch 38/50\n",
      "50000/50000 [==============================] - 3s 50us/step - loss: 0.7031 - acc: 0.7798 - val_loss: 1.5661 - val_acc: 0.4822\n",
      "Epoch 39/50\n",
      "50000/50000 [==============================] - 3s 50us/step - loss: 0.6834 - acc: 0.7864 - val_loss: 1.5558 - val_acc: 0.4967\n",
      "Epoch 40/50\n",
      "50000/50000 [==============================] - 3s 51us/step - loss: 0.6661 - acc: 0.7934 - val_loss: 1.5839 - val_acc: 0.4879\n",
      "Epoch 41/50\n",
      "50000/50000 [==============================] - 3s 51us/step - loss: 0.6495 - acc: 0.8005 - val_loss: 1.5713 - val_acc: 0.4893\n",
      "Epoch 42/50\n",
      "50000/50000 [==============================] - 2s 50us/step - loss: 0.6312 - acc: 0.8083 - val_loss: 1.5914 - val_acc: 0.4925\n",
      "Epoch 43/50\n",
      "50000/50000 [==============================] - 2s 50us/step - loss: 0.6140 - acc: 0.8136 - val_loss: 1.6123 - val_acc: 0.4843\n",
      "Epoch 44/50\n",
      "50000/50000 [==============================] - 2s 50us/step - loss: 0.5962 - acc: 0.8209 - val_loss: 1.6329 - val_acc: 0.4855\n",
      "Epoch 45/50\n",
      "50000/50000 [==============================] - 2s 50us/step - loss: 0.5783 - acc: 0.8274 - val_loss: 1.6184 - val_acc: 0.4905\n",
      "Epoch 46/50\n",
      "50000/50000 [==============================] - 3s 50us/step - loss: 0.5597 - acc: 0.8350 - val_loss: 1.6343 - val_acc: 0.4892\n",
      "Epoch 47/50\n",
      "50000/50000 [==============================] - 2s 50us/step - loss: 0.5440 - acc: 0.8427 - val_loss: 1.6420 - val_acc: 0.4852\n",
      "Epoch 48/50\n",
      "50000/50000 [==============================] - 2s 49us/step - loss: 0.5276 - acc: 0.8479 - val_loss: 1.6717 - val_acc: 0.4839\n",
      "Epoch 49/50\n",
      "50000/50000 [==============================] - 2s 49us/step - loss: 0.5108 - acc: 0.8545 - val_loss: 1.6732 - val_acc: 0.4860\n"
     ]
    },
    {
     "name": "stdout",
     "output_type": "stream",
     "text": [
      "Epoch 50/50\n",
      "50000/50000 [==============================] - 2s 50us/step - loss: 0.4926 - acc: 0.8626 - val_loss: 1.6832 - val_acc: 0.4812\n"
     ]
    }
   ],
   "source": [
    "model = build_mlp(input_shape=x_train.shape[1:])\n",
    "model.summary()\n",
    "optimizer = keras.optimizers.SGD(lr=LEARNING_RATE, nesterov=True, momentum=MOMENTUM)\n",
    "model.compile(loss=\"categorical_crossentropy\", metrics=[\"accuracy\"], optimizer=optimizer)\n",
    "\n",
    "model.fit(x_train, y_train, \n",
    "          epochs=EPOCHS, \n",
    "          batch_size=BATCH_SIZE, \n",
    "          validation_data=(x_test, y_test), \n",
    "          shuffle=True)\n",
    "\n",
    "# Collect results\n",
    "train_loss = model.history.history[\"loss\"]\n",
    "valid_loss = model.history.history[\"val_loss\"]\n",
    "train_acc = model.history.history[\"acc\"]\n",
    "valid_acc = model.history.history[\"val_acc\"]"
   ]
  },
  {
   "cell_type": "code",
   "execution_count": 8,
   "metadata": {},
   "outputs": [
    {
     "data": {
      "image/png": "[encoded data removed]",
      "text/plain": [
       "<Figure size 432x288 with 1 Axes>"
      ]
     },
     "metadata": {
      "needs_background": "light"
     },
     "output_type": "display_data"
    },
    {
     "data": {
      "image/png": "[encoded data removed]",
      "text/plain": [
       "<Figure size 432x288 with 1 Axes>"
      ]
     },
     "metadata": {
      "needs_background": "light"
     },
     "output_type": "display_data"
    }
   ],
   "source": [
    "import matplotlib.pyplot as plt\n",
    "%matplotlib inline\n",
    "\n",
    "plt.plot(range(len(train_loss)), train_loss, label=\"train loss\")\n",
    "plt.plot(range(len(valid_loss)), valid_loss, label=\"valid loss\")\n",
    "plt.legend()\n",
    "plt.title(\"Loss\")\n",
    "plt.show()\n",
    "\n",
    "plt.plot(range(len(train_acc)), train_acc, label=\"train accuracy\")\n",
    "plt.plot(range(len(valid_acc)), valid_acc, label=\"valid accuracy\")\n",
    "plt.legend()\n",
    "plt.title(\"Accuracy\")\n",
    "plt.show()"
   ]
  },
  {
   "cell_type": "markdown",
   "metadata": {},
   "source": [
    "## Work\n",
    "1. 試比較有 BN 在 Batch_size = 2, 16, 32, 128, 256 下的差異\n",
    "2. 請嘗試將 BN 放在 Activation 之前，並比較訓練結果\n",
    "3. 請於 BN 放在 Input Layer 後，並比較結果"
   ]
  }
 ],
 "metadata": {
  "kernelspec": {
   "display_name": "Python 3",
   "language": "python",
   "name": "python3"
  },
  "language_info": {
   "codemirror_mode": {
    "name": "ipython",
    "version": 3
   },
   "file_extension": ".py",
   "mimetype": "text/x-python",
   "name": "python",
   "nbconvert_exporter": "python",
   "pygments_lexer": "ipython3",
   "version": "3.7.3"
  }
 },
 "nbformat": 4,
 "nbformat_minor": 2
}

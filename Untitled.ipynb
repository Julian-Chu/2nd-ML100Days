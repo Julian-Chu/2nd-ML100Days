{
 "cells": [
  {
   "cell_type": "code",
   "execution_count": 1,
   "metadata": {},
   "outputs": [
    {
     "name": "stderr",
     "output_type": "stream",
     "text": [
      "Using TensorFlow backend.\n"
     ]
    }
   ],
   "source": [
    "import keras\n",
    "from keras.datasets import cifar10\n",
    "from keras.preprocessing.image import ImageDataGenerator\n",
    "from keras.models import Sequential\n",
    "from keras.layers import Dense, Dropout, Activation, Flatten\n",
    "from keras.layers import Conv2D, MaxPooling2D\n",
    "from keras.optimizers import RMSprop, Adam\n",
    "import os\n",
    "\n",
    "import cv2\n",
    "from keras.utils import np_utils\n",
    "import numpy as np\n",
    "from keras.applications.xception import Xception, preprocess_input"
   ]
  },
  {
   "cell_type": "code",
   "execution_count": 2,
   "metadata": {},
   "outputs": [
    {
     "name": "stdout",
     "output_type": "stream",
     "text": [
      "x_train shape: (50000, 32, 32, 3)\n",
      "50000 train samples\n",
      "10000 test samples\n"
     ]
    }
   ],
   "source": [
    "batch_size = 32 # batch 的大小，如果出現 OOM error，請降低這個值\n",
    "num_classes = 10 # 類別的數量，Cifar 10 共有 10 個類別\n",
    "epochs = 10 # 訓練的 epochs 數量\n",
    "image_size =(32,32) \n",
    "input_shape = (32,32,3)\n",
    "# 讀取資料並檢視\n",
    "(x_train, y_train), (x_test, y_test) = cifar10.load_data()\n",
    "print('x_train shape:', x_train.shape)\n",
    "print(x_train.shape[0], 'train samples')\n",
    "print(x_test.shape[0], 'test samples')\n",
    "\n",
    "# 對 label 進行 one-hot encoding (y_trian 原本是純數字)\n",
    "y_train = keras.utils.to_categorical(y_train, num_classes)\n",
    "y_test = keras.utils.to_categorical(y_test, num_classes)"
   ]
  },
  {
   "cell_type": "code",
   "execution_count": 3,
   "metadata": {},
   "outputs": [],
   "source": [
    "def cifar_generator(data, labels, batch_size=batch_size):\n",
    "    while True:\n",
    "        for indexs in range(0, labels.shape[0]//batch_size):\n",
    "            temp_batch_data = data[indexs: indexs+batch_size]\n",
    "            temp_batch_labels = labels[indexs: indexs+batch_size]\n",
    "            batch_data = []\n",
    "#             for j in range(0, len(temp_batch_data)):\n",
    "#                 batch_data.append(cv2.resize(temp_batch_data[j],image_size,interpolation=cv2.INTER_CUBIC))\n",
    "#             batch_labels = np_utils.to_categorical(temp_batch_labels,10)\n",
    "#             c = np.array(batch_data).astype('float32')\n",
    "#             a = preprocess_input(c)\n",
    "#             with graph.as_default():\n",
    "#                 b = model_without_top.predict(a)\n",
    "#             yield a,batch_labels\n",
    "            yield temp_batch_data, temp_batch_labels"
   ]
  },
  {
   "cell_type": "code",
   "execution_count": 4,
   "metadata": {},
   "outputs": [
    {
     "name": "stdout",
     "output_type": "stream",
     "text": [
      "50000 train samples\n",
      "10000 test samples\n"
     ]
    }
   ],
   "source": [
    "# 將資料攤平成一維資料\n",
    "x_train = x_train.reshape(50000, 3072) \n",
    "x_test = x_test.reshape(10000, 3072)\n",
    "\n",
    "# 將資料變為 float32 並標準化\n",
    "x_train = x_train.astype('float32')\n",
    "x_test = x_test.astype('float32')\n",
    "x_train /= 255\n",
    "x_test /= 255\n",
    "print(x_train.shape[0], 'train samples')\n",
    "print(x_test.shape[0], 'test samples')"
   ]
  },
  {
   "cell_type": "code",
   "execution_count": 5,
   "metadata": {},
   "outputs": [
    {
     "name": "stderr",
     "output_type": "stream",
     "text": [
      "WARNING: Logging before flag parsing goes to stderr.\n",
      "W0822 22:11:46.886058 16812 deprecation_wrapper.py:119] From C:\\Users\\Julian\\Anaconda3\\lib\\site-packages\\keras\\backend\\tensorflow_backend.py:74: The name tf.get_default_graph is deprecated. Please use tf.compat.v1.get_default_graph instead.\n",
      "\n",
      "W0822 22:11:46.915054 16812 deprecation_wrapper.py:119] From C:\\Users\\Julian\\Anaconda3\\lib\\site-packages\\keras\\backend\\tensorflow_backend.py:517: The name tf.placeholder is deprecated. Please use tf.compat.v1.placeholder instead.\n",
      "\n",
      "W0822 22:11:46.918056 16812 deprecation_wrapper.py:119] From C:\\Users\\Julian\\Anaconda3\\lib\\site-packages\\keras\\backend\\tensorflow_backend.py:4138: The name tf.random_uniform is deprecated. Please use tf.random.uniform instead.\n",
      "\n",
      "W0822 22:11:46.946060 16812 deprecation_wrapper.py:119] From C:\\Users\\Julian\\Anaconda3\\lib\\site-packages\\keras\\backend\\tensorflow_backend.py:133: The name tf.placeholder_with_default is deprecated. Please use tf.compat.v1.placeholder_with_default instead.\n",
      "\n",
      "W0822 22:11:46.959080 16812 deprecation.py:506] From C:\\Users\\Julian\\Anaconda3\\lib\\site-packages\\keras\\backend\\tensorflow_backend.py:3445: calling dropout (from tensorflow.python.ops.nn_ops) with keep_prob is deprecated and will be removed in a future version.\n",
      "Instructions for updating:\n",
      "Please use `rate` instead of `keep_prob`. Rate should be set to `rate = 1 - keep_prob`.\n"
     ]
    },
    {
     "name": "stdout",
     "output_type": "stream",
     "text": [
      "_________________________________________________________________"
     ]
    },
    {
     "name": "stderr",
     "output_type": "stream",
     "text": [
      "W0822 22:11:47.079058 16812 deprecation_wrapper.py:119] From C:\\Users\\Julian\\Anaconda3\\lib\\site-packages\\keras\\optimizers.py:790: The name tf.train.Optimizer is deprecated. Please use tf.compat.v1.train.Optimizer instead.\n",
      "\n",
      "W0822 22:11:47.096059 16812 deprecation_wrapper.py:119] From C:\\Users\\Julian\\Anaconda3\\lib\\site-packages\\keras\\backend\\tensorflow_backend.py:3295: The name tf.log is deprecated. Please use tf.math.log instead.\n",
      "\n"
     ]
    },
    {
     "name": "stdout",
     "output_type": "stream",
     "text": [
      "\n",
      "Layer (type)                 Output Shape              Param #   \n",
      "=================================================================\n",
      "dense_1 (Dense)              (None, 512)               1573376   \n",
      "_________________________________________________________________\n",
      "dropout_1 (Dropout)          (None, 512)               0         \n",
      "_________________________________________________________________\n",
      "dense_2 (Dense)              (None, 512)               262656    \n",
      "_________________________________________________________________\n",
      "dropout_2 (Dropout)          (None, 512)               0         \n",
      "_________________________________________________________________\n",
      "dense_3 (Dense)              (None, 10)                5130      \n",
      "=================================================================\n",
      "Total params: 1,841,162\n",
      "Trainable params: 1,841,162\n",
      "Non-trainable params: 0\n",
      "_________________________________________________________________\n"
     ]
    },
    {
     "name": "stderr",
     "output_type": "stream",
     "text": [
      "W0822 22:11:47.302060 16812 deprecation.py:323] From C:\\Users\\Julian\\Anaconda3\\lib\\site-packages\\tensorflow\\python\\ops\\math_grad.py:1250: add_dispatch_support.<locals>.wrapper (from tensorflow.python.ops.array_ops) is deprecated and will be removed in a future version.\n",
      "Instructions for updating:\n",
      "Use tf.where in 2.0, which has the same broadcast rule as np.where\n"
     ]
    },
    {
     "name": "stdout",
     "output_type": "stream",
     "text": [
      "Epoch 1/10\n",
      "1562/1562 [==============================] - 15s 9ms/step - loss: 1.3979 - acc: 0.5301 - val_loss: 3.0372 - val_acc: 0.1902\n",
      "Epoch 2/10\n",
      "1562/1562 [==============================] - 12s 7ms/step - loss: 1.4898 - acc: 0.4667 - val_loss: 3.1488 - val_acc: 0.1740\n",
      "Epoch 3/10\n",
      "1562/1562 [==============================] - 11s 7ms/step - loss: 1.4809 - acc: 0.4675 - val_loss: 2.6069 - val_acc: 0.1812\n",
      "Epoch 4/10\n",
      "1562/1562 [==============================] - 11s 7ms/step - loss: 1.5874 - acc: 0.4287 - val_loss: 2.6467 - val_acc: 0.1846\n",
      "Epoch 5/10\n",
      "1562/1562 [==============================] - 11s 7ms/step - loss: 1.7101 - acc: 0.3830 - val_loss: 2.8335 - val_acc: 0.1786\n",
      "Epoch 6/10\n",
      "1562/1562 [==============================] - 11s 7ms/step - loss: 1.7490 - acc: 0.3770 - val_loss: 2.7451 - val_acc: 0.1912\n",
      "Epoch 7/10\n",
      "1562/1562 [==============================] - 11s 7ms/step - loss: 1.7281 - acc: 0.3893 - val_loss: 3.0448 - val_acc: 0.2421\n",
      "Epoch 8/10\n",
      "1562/1562 [==============================] - 11s 7ms/step - loss: 1.7265 - acc: 0.3829 - val_loss: 2.6958 - val_acc: 0.2229\n",
      "Epoch 9/10\n",
      "1562/1562 [==============================] - 11s 7ms/step - loss: 1.7360 - acc: 0.3804 - val_loss: 3.1337 - val_acc: 0.2020\n",
      "Epoch 10/10\n",
      "1562/1562 [==============================] - 11s 7ms/step - loss: 1.8199 - acc: 0.3303 - val_loss: 3.2695 - val_acc: 0.2235\n",
      "Test loss: 3.194154661178589\n",
      "Test accuracy: 0.1988\n"
     ]
    }
   ],
   "source": [
    "model = Sequential()\n",
    "model.add(Dense(512, activation='relu', input_shape=(3072,)))\n",
    "model.add(Dropout(0.2))\n",
    "model.add(Dense(512, activation='relu'))\n",
    "model.add(Dropout(0.2))\n",
    "model.add(Dense(num_classes, activation='softmax'))\n",
    "\n",
    "model.summary()\n",
    "\n",
    "model.compile(loss='categorical_crossentropy',\n",
    "              optimizer=RMSprop(),\n",
    "              metrics=['accuracy'])\n",
    "\n",
    "# history = model.fit(x_train, y_train,\n",
    "#                     batch_size=batch_size,\n",
    "#                     epochs=epochs,\n",
    "#                     verbose=1,\n",
    "#                     validation_data=(x_test, y_test))\n",
    "history = model.fit_generator(\n",
    "                    cifar_generator(x_train, y_train),\n",
    "                    steps_per_epoch=y_train.shape[0]//batch_size,\n",
    "                    validation_steps=y_test.shape[0]//batch_size,\n",
    "                    epochs=epochs,\n",
    "                    verbose=1,\n",
    "                    validation_data=cifar_generator(x_test, y_test))\n",
    "score = model.evaluate(x_test, y_test, verbose=0)\n",
    "print('Test loss:', score[0])\n",
    "print('Test accuracy:', score[1])"
   ]
  },
  {
   "cell_type": "code",
   "execution_count": 6,
   "metadata": {},
   "outputs": [
    {
     "name": "stdout",
     "output_type": "stream",
     "text": [
      "x_train shape: (50000, 32, 32, 3)\n",
      "50000 train samples\n",
      "10000 test samples\n"
     ]
    }
   ],
   "source": [
    "(x_train, y_train), (x_test, y_test) = cifar10.load_data()\n",
    "print('x_train shape:', x_train.shape)\n",
    "print(x_train.shape[0], 'train samples')\n",
    "print(x_test.shape[0], 'test samples')\n",
    "x_train = x_train.astype('float32')\n",
    "x_test = x_test.astype('float32')\n",
    "x_train /= 255\n",
    "x_test /= 255\n",
    "\n",
    "# Convert class vectors to binary class matrices.\n",
    "y_train = keras.utils.to_categorical(y_train, num_classes)\n",
    "y_test = keras.utils.to_categorical(y_test, num_classes)"
   ]
  },
  {
   "cell_type": "code",
   "execution_count": 7,
   "metadata": {},
   "outputs": [
    {
     "name": "stderr",
     "output_type": "stream",
     "text": [
      "W0822 22:13:46.379284 16812 deprecation_wrapper.py:119] From C:\\Users\\Julian\\Anaconda3\\lib\\site-packages\\keras\\backend\\tensorflow_backend.py:3976: The name tf.nn.max_pool is deprecated. Please use tf.nn.max_pool2d instead.\n",
      "\n"
     ]
    },
    {
     "name": "stdout",
     "output_type": "stream",
     "text": [
      "_________________________________________________________________\n",
      "Layer (type)                 Output Shape              Param #   \n",
      "=================================================================\n",
      "conv2d_1 (Conv2D)            (None, 32, 32, 32)        896       \n",
      "_________________________________________________________________\n",
      "activation_1 (Activation)    (None, 32, 32, 32)        0         \n",
      "_________________________________________________________________\n",
      "conv2d_2 (Conv2D)            (None, 30, 30, 32)        9248      \n",
      "_________________________________________________________________\n",
      "activation_2 (Activation)    (None, 30, 30, 32)        0         \n",
      "_________________________________________________________________\n",
      "max_pooling2d_1 (MaxPooling2 (None, 15, 15, 32)        0         \n",
      "_________________________________________________________________\n",
      "dropout_3 (Dropout)          (None, 15, 15, 32)        0         \n",
      "_________________________________________________________________\n",
      "conv2d_3 (Conv2D)            (None, 15, 15, 64)        18496     \n",
      "_________________________________________________________________\n",
      "activation_3 (Activation)    (None, 15, 15, 64)        0         \n",
      "_________________________________________________________________\n",
      "conv2d_4 (Conv2D)            (None, 13, 13, 64)        36928     \n",
      "_________________________________________________________________\n",
      "activation_4 (Activation)    (None, 13, 13, 64)        0         \n",
      "_________________________________________________________________\n",
      "max_pooling2d_2 (MaxPooling2 (None, 6, 6, 64)          0         \n",
      "_________________________________________________________________\n",
      "dropout_4 (Dropout)          (None, 6, 6, 64)          0         \n",
      "_________________________________________________________________\n",
      "flatten_1 (Flatten)          (None, 2304)              0         \n",
      "_________________________________________________________________\n",
      "dense_4 (Dense)              (None, 512)               1180160   \n",
      "_________________________________________________________________\n",
      "activation_5 (Activation)    (None, 512)               0         \n",
      "_________________________________________________________________\n",
      "dropout_5 (Dropout)          (None, 512)               0         \n",
      "_________________________________________________________________\n",
      "dense_5 (Dense)              (None, 10)                5130      \n",
      "_________________________________________________________________\n",
      "activation_6 (Activation)    (None, 10)                0         \n",
      "=================================================================\n",
      "Total params: 1,250,858\n",
      "Trainable params: 1,250,858\n",
      "Non-trainable params: 0\n",
      "_________________________________________________________________\n",
      "Epoch 1/10\n",
      "1562/1562 [==============================] - 22s 14ms/step - loss: 0.4175 - acc: 0.8903 - val_loss: 4.0777 - val_acc: 0.2894\n",
      "Epoch 2/10\n",
      "1562/1562 [==============================] - 20s 12ms/step - loss: 0.2467 - acc: 0.9415 - val_loss: 4.1461 - val_acc: 0.3429-\n",
      "Epoch 3/10\n",
      "1562/1562 [==============================] - 20s 13ms/step - loss: 0.1829 - acc: 0.9581 - val_loss: 4.2817 - val_acc: 0.3670\n",
      "Epoch 4/10\n",
      "1562/1562 [==============================] - 20s 13ms/step - loss: 0.1616 - acc: 0.9632 - val_loss: 4.9421 - val_acc: 0.3614\n",
      "Epoch 5/10\n",
      "1562/1562 [==============================] - 20s 12ms/step - loss: 0.1662 - acc: 0.9647 - val_loss: 4.3400 - val_acc: 0.3712\n",
      "Epoch 6/10\n",
      "1562/1562 [==============================] - 20s 12ms/step - loss: 0.1660 - acc: 0.9664 - val_loss: 4.3850 - val_acc: 0.3567\n",
      "Epoch 7/10\n",
      "1562/1562 [==============================] - 20s 13ms/step - loss: 0.1904 - acc: 0.9642 - val_loss: 5.4456 - val_acc: 0.4039\n",
      "Epoch 8/10\n",
      "1562/1562 [==============================] - 19s 12ms/step - loss: 0.2244 - acc: 0.9606 - val_loss: 8.5355 - val_acc: 0.3018\n",
      "Epoch 9/10\n",
      "1562/1562 [==============================] - 20s 13ms/step - loss: 0.2236 - acc: 0.9614 - val_loss: 5.4498 - val_acc: 0.3512\n",
      "Epoch 10/10\n",
      "1562/1562 [==============================] - 19s 12ms/step - loss: 0.2456 - acc: 0.9611 - val_loss: 5.2477 - val_acc: 0.3911\n",
      "Test loss: 5.278382748794556\n",
      "Test accuracy: 0.4271\n"
     ]
    }
   ],
   "source": [
    "model = Sequential()\n",
    "model.add(Conv2D(32, (3, 3), padding='same',\n",
    "                 input_shape=x_train.shape[1:]))\n",
    "model.add(Activation('relu'))\n",
    "model.add(Conv2D(32, (3, 3)))\n",
    "model.add(Activation('relu'))\n",
    "model.add(MaxPooling2D(pool_size=(2, 2)))\n",
    "model.add(Dropout(0.25))\n",
    "\n",
    "model.add(Conv2D(64, (3, 3), padding='same'))\n",
    "model.add(Activation('relu'))\n",
    "model.add(Conv2D(64, (3, 3)))\n",
    "model.add(Activation('relu'))\n",
    "model.add(MaxPooling2D(pool_size=(2, 2)))\n",
    "model.add(Dropout(0.25))\n",
    "\n",
    "model.add(Flatten())\n",
    "model.add(Dense(512))\n",
    "model.add(Activation('relu'))\n",
    "model.add(Dropout(0.5))\n",
    "model.add(Dense(num_classes))\n",
    "model.add(Activation('softmax'))\n",
    "model.summary()\n",
    "\n",
    "model.compile(loss='categorical_crossentropy',\n",
    "              optimizer=RMSprop(),\n",
    "              metrics=['accuracy'])\n",
    "\n",
    "# history = model.fit(x_train, y_train,\n",
    "#                     batch_size=batch_size,\n",
    "#                     epochs=epochs,\n",
    "#                     verbose=1,\n",
    "#                     validation_data=(x_test, y_test))\n",
    "history = model.fit_generator(\n",
    "                    cifar_generator(x_train, y_train),\n",
    "                    steps_per_epoch=y_train.shape[0]//batch_size,\n",
    "                    validation_steps=y_test.shape[0]//batch_size,\n",
    "                    epochs=epochs,\n",
    "                    verbose=1,\n",
    "                    validation_data=cifar_generator(x_test, y_test))\n",
    "score = model.evaluate(x_test, y_test, verbose=0)\n",
    "print('Test loss:', score[0])\n",
    "print('Test accuracy:', score[1])"
   ]
  },
  {
   "cell_type": "code",
   "execution_count": null,
   "metadata": {},
   "outputs": [],
   "source": []
  },
  {
   "cell_type": "code",
   "execution_count": null,
   "metadata": {},
   "outputs": [],
   "source": []
  }
 ],
 "metadata": {
  "kernelspec": {
   "display_name": "Python 3",
   "language": "python",
   "name": "python3"
  },
  "language_info": {
   "codemirror_mode": {
    "name": "ipython",
    "version": 3
   },
   "file_extension": ".py",
   "mimetype": "text/x-python",
   "name": "python",
   "nbconvert_exporter": "python",
   "pygments_lexer": "ipython3",
   "version": "3.7.3"
  }
 },
 "nbformat": 4,
 "nbformat_minor": 2
}
